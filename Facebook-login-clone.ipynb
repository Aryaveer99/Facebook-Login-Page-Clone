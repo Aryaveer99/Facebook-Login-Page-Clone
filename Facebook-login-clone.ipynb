{
 "cells": [
  {
   "cell_type": "code",
   "execution_count": 1,
   "metadata": {},
   "outputs": [],
   "source": [
    "import mysql.connector\n",
    "from tkinter import *\n",
    "from PIL import ImageTk, Image"
   ]
  },
  {
   "cell_type": "code",
   "execution_count": 2,
   "metadata": {},
   "outputs": [],
   "source": [
    "mydb = mysql.connector.connect(host=\"localhost\", user=\"root\", passwd=\"arya@123\", database=\"form\")\n",
    "my_cursor = mydb.cursor()\n",
    "\n",
    "root=Tk()\n",
    "root.title(\"Facebook Login\")\n",
    "my_img=ImageTk.PhotoImage(Image.open(\"fb_login.png\"))\n",
    "my_label=Label(image=my_img)\n",
    "my_label.pack()\n",
    "\n",
    "def click():\n",
    "    \n",
    "    try:\n",
    "        if fName.get()==\"\" or lName.get()==\"\" or email.get()==\"\" or password.get()==\"\" or reEmail.get()==\"\":\n",
    "            raise exception\n",
    "           \n",
    "        insertSql=\"INSERT INTO users(fname, lname, email, pass, birthday, gender) VALUES(%s,%s,%s,%s,%s,%s)\"\n",
    "        record=(fName.get(),lName.get(),email.get(),password.get(),(birthdayYear.get()+\"-\"+birthdayMonth.get()+\"-\"+birthdayDay.get()),gender.get())\n",
    "        my_cursor.execute(insertSql,record)\n",
    "        mydb.commit()\n",
    "        \n",
    "        mssg= Label(root, bg=\"green\", fg=\"white\",text=\"Data inserted successfully...\", width=20)\n",
    "        mssg.place(x=0,y=498)\n",
    "        \n",
    "    except:\n",
    "        \n",
    "        mssg= Label(root, bg=\"orangered\", fg=\"white\",text=\"Data field error/s found...\", width=20)\n",
    "        mssg.place(x=0,y=498)\n",
    "    \n",
    "fName=Entry(root,width=27)\n",
    "fName.place(x=725,y=202)\n",
    "lName=Entry(root, width=27)\n",
    "lName.place(x=725,y=239)\n",
    "email=Entry(root, width=27)\n",
    "email.place(x=725,y=276)\n",
    "reEmail=Entry(root, width=27)\n",
    "reEmail.place(x=725,y=313)\n",
    "password=Entry(root, width=27)\n",
    "password.place(x=725,y=350)\n",
    "\n",
    "birthdayDay=Entry(root, width=5)\n",
    "birthdayDay.place(x=807,y=419)\n",
    "birthdayDay.insert(0,\"1-31\")\n",
    "\n",
    "birthdayMonth=Entry(root, width=7)\n",
    "birthdayMonth.place(x=725,y=419)\n",
    "birthdayMonth.insert(0,\"1-12\")\n",
    "\n",
    "birthdayYear=Entry(root, width=6)\n",
    "birthdayYear.place(x=871,y=419)\n",
    "birthdayYear.insert(0,\"1905-2019\")\n",
    "\n",
    "gender = StringVar(root)\n",
    "gender.set(\"Select sex\")\n",
    "s=[\"Male\", \"Female\", \"Others\"]\n",
    "drop_menu = OptionMenu(root, gender, *s)\n",
    "drop_menu.place(x=725,y=387)\n",
    "\n",
    "submitButton=Button(root,text=\"Sign Up\",command=click, fg=\"green\", padx=27, pady=5)\n",
    "submitButton.place(x=724,y=474)\n",
    "\n",
    "root.mainloop()"
   ]
  }
 ],
 "metadata": {
  "kernelspec": {
   "display_name": "Python 3",
   "language": "python",
   "name": "python3"
  },
  "language_info": {
   "codemirror_mode": {
    "name": "ipython",
    "version": 3
   },
   "file_extension": ".py",
   "mimetype": "text/x-python",
   "name": "python",
   "nbconvert_exporter": "python",
   "pygments_lexer": "ipython3",
   "version": "3.7.3"
  }
 },
 "nbformat": 4,
 "nbformat_minor": 2
}
